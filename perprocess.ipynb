{
 "cells": [
  {
   "cell_type": "code",
   "execution_count": 1,
   "id": "2edfff0b",
   "metadata": {},
   "outputs": [],
   "source": [
    "import re\n",
    "# std_col_names is to standardlize the column names in the columns\n",
    "def std_col_names(pd_dataframe):\n",
    "\t#if dataframe headers have parentheses and content within , replace with empty\n",
    "\tpd_dataframe.columns = [re.sub('\\(.*?\\)','',col) for col in pd_dataframe.columns]\n",
    "\t# trim the column name\n",
    "\tpd_dataframe.columns = [col.strip().lower() for col in pd_dataframe.columns]\n",
    "\t# if dataframe headers have spaces, replace with underscores\n",
    "\tpd_dataframe.columns = [col.replace(' ', '_').lower() for col in pd_dataframe.columns]\n",
    "\treturn pd_dataframe\n",
    "\t"
   ]
  },
  {
   "cell_type": "code",
   "execution_count": null,
   "id": "945b2583",
   "metadata": {},
   "outputs": [],
   "source": []
  }
 ],
 "metadata": {
  "kernelspec": {
   "display_name": "Python 3 (ipykernel)",
   "language": "python",
   "name": "python3"
  },
  "language_info": {
   "codemirror_mode": {
    "name": "ipython",
    "version": 3
   },
   "file_extension": ".py",
   "mimetype": "text/x-python",
   "name": "python",
   "nbconvert_exporter": "python",
   "pygments_lexer": "ipython3",
   "version": "3.9.12"
  }
 },
 "nbformat": 4,
 "nbformat_minor": 5
}
